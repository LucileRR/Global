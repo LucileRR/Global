{
 "cells": [
  {
   "cell_type": "markdown",
   "metadata": {},
   "source": [
    "# Recherche bibliographique des modèles de propagation d'un virus\n",
    "\n",
    "Les modèles de propagation d'une épidémie sont nombreux. Le plus simple est le modèle SIR comme nous avons pu l'implémenter dans l'application Dash de ce projet. Il permet de modéliser lévolution de l'appartenance de la population à 3 groupes : les Suceptibles, les Infectés et les Recovered (guéris). Les modèles plus complexes sont souvent basés sur ce modèle SIR en intégrant de nouvelles hypothèses. Par exemple, le modèle MSIR suppose que les bébés juste nés ne sont pas suceptibles de contracter le virus grâce à la protection des anti-corps de la mère, cette hypothèse est donc inclue au modèle SIR en rajoutant un groupe : les personnes immunes.\n",
    "\n",
    "Une autre extension du modèle SIR est le modèle SEIR qui permet l'introduction d'une période d'incubation. SEIR modélise l'évolution d'appartenance à 4 groupes : 1 - Susceptibles, 2 - Exposed (infectés mais non infectieux), 3 - Infected, 4 - Recovered. Ce modèle repose sur 4 équations différentielles qui dépendent de 3 paramètres :\n",
    "- alpha : l'inverse de la durée de la période d'incubation,\n",
    "- beta : la probabilité d'infection,\n",
    "- gamma : la probabilité de guérison.\n",
    "\n",
    "Le modèle Threshold est un modèle qui peut être appliqué à la propagation d'un virus et n'est pas basé sur le modèle SIR. Dans ce modèle, lors d'une épidémie, un individu dispose de deux alternatives comportementales distinctes et mutuellement exclusives, par exemple la décision de participer ou de ne pas participer à un rassemblement. La décision individuelle d'un individu dépend du pourcentage de ses voisins qui ont fait le même choix, imposant ainsi un seuil. Le modèle fonctionne comme suit : - chaque individu a son propre seuil ; - à chaque itération, chaque individu est observé : si le pourcentage de ses voisins infectés est supérieur à son seuil, il devient également infecté.\n",
    "\n",
    "Reférences : \n",
    "- Modèle MSIR : https://en.wikipedia.org/wiki/Compartmental_models_in_epidemiology#The_MSIR_model\n",
    "- Modèle SEIR :\n",
    "https://towardsdatascience.com/social-distancing-to-slow-the-coronavirus-768292f04296?gi=53b98c3c5110, http://homepages.warwick.ac.uk/~masfz/ModelingInfectiousDiseases/Chapter2/Program_2.6/index.html, \n",
    "https://ndlib.readthedocs.io/en/latest/reference/models/epidemics/SEIR.html\n",
    "- Threshold model : \n",
    "https://sociology.stanford.edu/sites/g/files/sbiybj9501/f/publications/threshold_models_ajs_1978.pdf, https://ndlib.readthedocs.io/en/latest/reference/models/epidemics/Threshold.html#id2"
   ]
  },
  {
   "cell_type": "markdown",
   "metadata": {},
   "source": [
    "# Choix d'un modèle\n",
    "\n",
    "Le modèle choisi dans le cadre de ce projet est le modèle SEIR. Ce modèle, prenant en considération une période d'incubation, est susceptible d'être adapté aux données disponibles sur le Covid-19 puisque ce virus présente également une période d'incubation de 1 à 14 jours (selon l'OMS https://www.who.int/fr/emergencies/diseases/novel-coronavirus-2019/advice-for-public/q-a-coronaviruses)."
   ]
  },
  {
   "cell_type": "markdown",
   "metadata": {},
   "source": [
    "# Application numérique sur les données du corona virus"
   ]
  },
  {
   "cell_type": "code",
   "execution_count": 1,
   "metadata": {},
   "outputs": [],
   "source": [
    "import pandas as pd\n",
    "import numpy as np\n",
    "\n",
    "import matplotlib.pyplot as plt\n",
    "\n",
    "import os\n",
    "import datetime\n",
    "\n",
    "import yaml"
   ]
  },
  {
   "cell_type": "code",
   "execution_count": 2,
   "metadata": {},
   "outputs": [],
   "source": [
    "ENV_FILE = '../env.yaml'\n",
    "with open(ENV_FILE) as f:\n",
    "    params = yaml.load(f, Loader=yaml.FullLoader)\n",
    "\n",
    "# Initialisation des chemins vers les fichiers\n",
    "ROOT_DIR = os.path.dirname(os.path.abspath(ENV_FILE))\n",
    "DATA_FILE = os.path.join(ROOT_DIR, \n",
    "                         params['directories']['processed'], \n",
    "                         params['files']['all_data'])\n",
    "\n",
    "# Lecture du fichiers des données\n",
    "epidemie_df = (pd.read_csv(DATA_FILE, parse_dates=[\"Last Update\"])\n",
    "               .assign(day=lambda _df: _df['Last Update'].dt.date)\n",
    "               .drop_duplicates(subset=['Country/Region', 'Province/State', 'day'])\n",
    "               [lambda df: df.day <= datetime.date(2020, 3, 27)]\n",
    "              )"
   ]
  },
  {
   "cell_type": "markdown",
   "metadata": {},
   "source": [
    "### Application du modèle sur la Corée du Sud"
   ]
  },
  {
   "cell_type": "code",
   "execution_count": 3,
   "metadata": {},
   "outputs": [],
   "source": [
    "korea_df = (epidemie_df[epidemie_df['Country/Region'] == 'South Korea']\n",
    "             .groupby(['Country/Region', 'day'])\n",
    "             .agg({'Confirmed': 'sum', 'Deaths': 'sum', 'Recovered': 'sum'})\n",
    "             .reset_index()\n",
    "            )"
   ]
  },
  {
   "cell_type": "code",
   "execution_count": 4,
   "metadata": {},
   "outputs": [],
   "source": [
    "korea_df['infected'] = korea_df['Confirmed'].diff()"
   ]
  },
  {
   "cell_type": "markdown",
   "metadata": {},
   "source": [
    "SEIR from scratch"
   ]
  },
  {
   "cell_type": "code",
   "execution_count": 6,
   "metadata": {},
   "outputs": [],
   "source": [
    "alpha = 0.08\n",
    "beta = 1.75\n",
    "gamma = 0.5\n",
    "\n",
    "size = korea_df.day.reset_index().index"
   ]
  },
  {
   "cell_type": "code",
   "execution_count": 36,
   "metadata": {},
   "outputs": [],
   "source": [
    "def SEIR(t, init_vals):\n",
    "        S_0, E_0, I_0, R_0 = init_vals\n",
    "        S, E, I, R = [S_0], [E_0], [I_0], [R_0]\n",
    "        #alpha, beta, gamma = parameters\n",
    "        dt = t[1] - t[0]\n",
    "        for _ in t[1:]:\n",
    "            next_S = S[-1] - (beta*S[-1]*I[-1])*dt\n",
    "            next_E = E[-1] + (beta*S[-1]*I[-1] - alpha*E[-1])*dt\n",
    "            next_I = I[-1] + (alpha*E[-1] - gamma*I[-1])*dt\n",
    "            next_R = R[-1] + (gamma*I[-1])*dt\n",
    "            S.append(next_S)\n",
    "            E.append(next_E)\n",
    "            I.append(next_I)\n",
    "            R.append(next_R)\n",
    "        return np.stack([S, E, I, R]).T"
   ]
  },
  {
   "cell_type": "code",
   "execution_count": 8,
   "metadata": {},
   "outputs": [],
   "source": [
    "def loss(parameters, N):\n",
    "    \"\"\"\n",
    "    RMSE between actual confirmed cases and the estimated infectious people with given beta and gamma.\n",
    "    \"\"\"\n",
    "    size = korea_df.day.reset_index().index\n",
    "    alpha, beta, gamma = parameters\n",
    "    \n",
    "    def SEIR(t, init_vals):\n",
    "        S_0, E_0, I_0, R_0 = init_vals\n",
    "        S, E, I, R = [S_0], [E_0], [I_0], [R_0]\n",
    "        #alpha, beta, gamma = parameters\n",
    "        dt = t[1] - t[0]\n",
    "        for _ in t[1:]:\n",
    "            next_S = S[-1] - (beta*S[-1]*I[-1])*dt\n",
    "            next_E = E[-1] + (beta*S[-1]*I[-1] - alpha*E[-1])*dt\n",
    "            next_I = I[-1] + (alpha*E[-1] - gamma*I[-1])*dt\n",
    "            next_R = R[-1] + (gamma*I[-1])*dt\n",
    "            S.append(next_S)\n",
    "            E.append(next_E)\n",
    "            I.append(next_I)\n",
    "            R.append(next_R)\n",
    "        return np.stack([S, E, I, R]).T\n",
    "    \n",
    "    solution = SEIR(size, [1 - 1/N, 1/N, 0, 0])[:,3]\n",
    "    # solution = solve_ivp(SEIR, [size-1], [51_470_000, 1, 0, 0], t_eval=np.arange(0, size, 1), vectorized=True)\n",
    "    \n",
    "    return np.sqrt(np.mean((solution - korea_df['infected'])**2))"
   ]
  },
  {
   "cell_type": "code",
   "execution_count": 9,
   "metadata": {},
   "outputs": [
    {
     "data": {
      "text/plain": [
       "264.6317867048359"
      ]
     },
     "execution_count": 9,
     "metadata": {},
     "output_type": "execute_result"
    }
   ],
   "source": [
    "loss([alpha, beta, gamma], 51_470_000)"
   ]
  },
  {
   "cell_type": "code",
   "execution_count": 10,
   "metadata": {},
   "outputs": [
    {
     "name": "stderr",
     "output_type": "stream",
     "text": [
      "<ipython-input-8-6df870eaf11b>:14: RuntimeWarning: overflow encountered in double_scalars\n",
      "  next_S = S[-1] - (beta*S[-1]*I[-1])*dt\n",
      "<ipython-input-8-6df870eaf11b>:15: RuntimeWarning: overflow encountered in double_scalars\n",
      "  next_E = E[-1] + (beta*S[-1]*I[-1] - alpha*E[-1])*dt\n",
      "<ipython-input-8-6df870eaf11b>:15: RuntimeWarning: invalid value encountered in double_scalars\n",
      "  next_E = E[-1] + (beta*S[-1]*I[-1] - alpha*E[-1])*dt\n",
      "<ipython-input-8-6df870eaf11b>:14: RuntimeWarning: invalid value encountered in double_scalars\n",
      "  next_S = S[-1] - (beta*S[-1]*I[-1])*dt\n"
     ]
    },
    {
     "name": "stdout",
     "output_type": "stream",
     "text": [
      "Wall time: 1.37 s\n"
     ]
    }
   ],
   "source": [
    "%%time\n",
    "from scipy.optimize import minimize\n",
    "from scipy.integrate import solve_ivp\n",
    "\n",
    "msol = minimize(loss, [0.08, 1.75, 0.5], 51_470_000, method='Nelder-Mead') # ne fonctionne pas\n",
    "#msol.x"
   ]
  },
  {
   "cell_type": "code",
   "execution_count": 91,
   "metadata": {},
   "outputs": [],
   "source": [
    "%matplotlib inline"
   ]
  },
  {
   "cell_type": "code",
   "execution_count": 37,
   "metadata": {},
   "outputs": [],
   "source": [
    "results = SEIR(size, [51_470_000, 1, 0, 0])"
   ]
  },
  {
   "cell_type": "code",
   "execution_count": 40,
   "metadata": {},
   "outputs": [
    {
     "data": {
      "image/png": "[encoded data removed]",
      "text/plain": [
       "<Figure size 864x360 with 1 Axes>"
      ]
     },
     "metadata": {
      "needs_background": "light"
     },
     "output_type": "display_data"
    }
   ],
   "source": [
    "fig = plt.figure(figsize=(12, 5))\n",
    "plt.plot(size, results[:,0], label='Susceptible');\n",
    "plt.plot(size, results[:,1], label='Exposed');\n",
    "plt.plot(size, results[:,2], label='Infected');\n",
    "plt.plot(size, results[:,3], label='Recovered');\n",
    "plt.plot(korea_df.day.index, korea_df.infected, label='S.Korea infected')\n",
    "plt.plot\n",
    "plt.legend()\n",
    "plt.show()"
   ]
  },
  {
   "cell_type": "markdown",
   "metadata": {},
   "source": [
    "SEIR with nlib library"
   ]
  },
  {
   "cell_type": "code",
   "execution_count": 13,
   "metadata": {},
   "outputs": [],
   "source": [
    "import networkx as nx\n",
    "import ndlib.models.ModelConfig as mc\n",
    "import ndlib.models.epidemics as ep"
   ]
  },
  {
   "cell_type": "code",
   "execution_count": 29,
   "metadata": {},
   "outputs": [],
   "source": [
    "alpha = 0.08\n",
    "beta = 1.75\n",
    "gamma = 0.5\n",
    "\n",
    "nb_iterations = np.array(korea_df.day.reset_index().index)\n",
    "fraction_infected = 0.01"
   ]
  },
  {
   "cell_type": "code",
   "execution_count": 30,
   "metadata": {},
   "outputs": [],
   "source": [
    "def SEIR(parameters, nb_iterations, N, fraction_infected):\n",
    "    \n",
    "    alpha, beta, gamma = parameters \n",
    "    \n",
    "    # Network topology\n",
    "    g = nx.erdos_renyi_graph(N, 0.1)\n",
    "    \n",
    "    # Model selection\n",
    "    model = ep.SEIRModel(g)\n",
    "    \n",
    "    # Model Configuration\n",
    "    cfg = mc.Configuration()\n",
    "    cfg.add_model_parameter('beta', beta)\n",
    "    cfg.add_model_parameter('gamma', gamma)\n",
    "    cfg.add_model_parameter('alpha', alpha)\n",
    "    cfg.add_model_parameter(\"fraction_infected\", fraction_infected)\n",
    "    model.set_initial_status(cfg)\n",
    "    \n",
    "    # Simulation execution\n",
    "    iterations = model.iteration_bunch(nb_iterations)\n",
    "    \n",
    "    # Count the number of people in each state at each iteration\n",
    "    states_count = [sub['node_count'] for sub in iterations]\n",
    "    \n",
    "    # Number of suceptibles at each iteration\n",
    "    susceptibles = np.array([dico[0] for dico in states_count])\n",
    "    \n",
    "    # Number of exposed at each iteration\n",
    "    exposed =  np.array([dico[1] for dico in states_count])\n",
    "    \n",
    "    # Number of infected at each iteration\n",
    "    infected =  np.array([dico[2] for dico in states_count])\n",
    "    \n",
    "    # Number of recovered at each iteration\n",
    "    recovered = np.array([dico[3] for dico in states_count])\n",
    "    \n",
    "    return(pd.DataFrame({'infected': infected}))"
   ]
  },
  {
   "cell_type": "code",
   "execution_count": 31,
   "metadata": {},
   "outputs": [],
   "source": [
    "def loss(parameters):\n",
    "    \"\"\"\n",
    "    RMSE between actual confirmed cases and the estimated infectious people with given beta and gamma.\n",
    "    \"\"\"\n",
    "    def SEIR(parameters, nb_iterations, N, fraction_infected):\n",
    "    \n",
    "        alpha, beta, gamma = parameters \n",
    "\n",
    "        # Network topology\n",
    "        g = nx.erdos_renyi_graph(N, 0.1)\n",
    "\n",
    "        # Model selection\n",
    "        model = ep.SEIRModel(g)\n",
    "\n",
    "        # Model Configuration\n",
    "        cfg = mc.Configuration()\n",
    "        cfg.add_model_parameter('beta', beta)\n",
    "        cfg.add_model_parameter('gamma', gamma)\n",
    "        cfg.add_model_parameter('alpha', alpha)\n",
    "        cfg.add_model_parameter(\"fraction_infected\", fraction_infected)\n",
    "        model.set_initial_status(cfg)\n",
    "\n",
    "        # Simulation execution\n",
    "        iterations = model.iteration_bunch(nb_iterations)\n",
    "\n",
    "        # Count the number of people in each state at each iteration\n",
    "        states_count = [sub['node_count'] for sub in iterations]\n",
    "\n",
    "        # Number of suceptibles at each iteration\n",
    "        susceptibles = np.array([dico[0] for dico in states_count])\n",
    "\n",
    "        # Number of exposed at each iteration\n",
    "        exposed =  np.array([dico[1] for dico in states_count])\n",
    "\n",
    "        # Number of infected at each iteration\n",
    "        infected =  np.array([dico[2] for dico in states_count])\n",
    "\n",
    "        # Number of recovered at each iteration\n",
    "        recovered = np.array([dico[3] for dico in states_count])\n",
    "\n",
    "        return(pd.DataFrame({'infected': infected}))\n",
    "    \n",
    "    solution = SEIR(parameters, nb_iterations, N, fraction_infected)\n",
    "    \n",
    "    return np.sqrt(np.mean((solution - korea_df['infected'])**2))"
   ]
  },
  {
   "cell_type": "code",
   "execution_count": 32,
   "metadata": {},
   "outputs": [
    {
     "ename": "TypeError",
     "evalue": "only integer scalar arrays can be converted to a scalar index",
     "output_type": "error",
     "traceback": [
      "\u001b[1;31m---------------------------------------------------------------------------\u001b[0m",
      "\u001b[1;31mTypeError\u001b[0m                                 Traceback (most recent call last)",
      "\u001b[1;32m<timed exec>\u001b[0m in \u001b[0;36m<module>\u001b[1;34m\u001b[0m\n",
      "\u001b[1;32m~\\Anaconda3\\envs\\corona\\lib\\site-packages\\scipy\\optimize\\_minimize.py\u001b[0m in \u001b[0;36mminimize\u001b[1;34m(fun, x0, args, method, jac, hess, hessp, bounds, constraints, tol, callback, options)\u001b[0m\n\u001b[0;32m    596\u001b[0m \u001b[1;33m\u001b[0m\u001b[0m\n\u001b[0;32m    597\u001b[0m     \u001b[1;32mif\u001b[0m \u001b[0mmeth\u001b[0m \u001b[1;33m==\u001b[0m \u001b[1;34m'nelder-mead'\u001b[0m\u001b[1;33m:\u001b[0m\u001b[1;33m\u001b[0m\u001b[1;33m\u001b[0m\u001b[0m\n\u001b[1;32m--> 598\u001b[1;33m         \u001b[1;32mreturn\u001b[0m \u001b[0m_minimize_neldermead\u001b[0m\u001b[1;33m(\u001b[0m\u001b[0mfun\u001b[0m\u001b[1;33m,\u001b[0m \u001b[0mx0\u001b[0m\u001b[1;33m,\u001b[0m \u001b[0margs\u001b[0m\u001b[1;33m,\u001b[0m \u001b[0mcallback\u001b[0m\u001b[1;33m,\u001b[0m \u001b[1;33m**\u001b[0m\u001b[0moptions\u001b[0m\u001b[1;33m)\u001b[0m\u001b[1;33m\u001b[0m\u001b[1;33m\u001b[0m\u001b[0m\n\u001b[0m\u001b[0;32m    599\u001b[0m     \u001b[1;32melif\u001b[0m \u001b[0mmeth\u001b[0m \u001b[1;33m==\u001b[0m \u001b[1;34m'powell'\u001b[0m\u001b[1;33m:\u001b[0m\u001b[1;33m\u001b[0m\u001b[1;33m\u001b[0m\u001b[0m\n\u001b[0;32m    600\u001b[0m         \u001b[1;32mreturn\u001b[0m \u001b[0m_minimize_powell\u001b[0m\u001b[1;33m(\u001b[0m\u001b[0mfun\u001b[0m\u001b[1;33m,\u001b[0m \u001b[0mx0\u001b[0m\u001b[1;33m,\u001b[0m \u001b[0margs\u001b[0m\u001b[1;33m,\u001b[0m \u001b[0mcallback\u001b[0m\u001b[1;33m,\u001b[0m \u001b[1;33m**\u001b[0m\u001b[0moptions\u001b[0m\u001b[1;33m)\u001b[0m\u001b[1;33m\u001b[0m\u001b[1;33m\u001b[0m\u001b[0m\n",
      "\u001b[1;32m~\\Anaconda3\\envs\\corona\\lib\\site-packages\\scipy\\optimize\\optimize.py\u001b[0m in \u001b[0;36m_minimize_neldermead\u001b[1;34m(func, x0, args, callback, maxiter, maxfev, disp, return_all, initial_simplex, xatol, fatol, adaptive, **unknown_options)\u001b[0m\n\u001b[0;32m    584\u001b[0m \u001b[1;33m\u001b[0m\u001b[0m\n\u001b[0;32m    585\u001b[0m     \u001b[1;32mfor\u001b[0m \u001b[0mk\u001b[0m \u001b[1;32min\u001b[0m \u001b[0mrange\u001b[0m\u001b[1;33m(\u001b[0m\u001b[0mN\u001b[0m \u001b[1;33m+\u001b[0m \u001b[1;36m1\u001b[0m\u001b[1;33m)\u001b[0m\u001b[1;33m:\u001b[0m\u001b[1;33m\u001b[0m\u001b[1;33m\u001b[0m\u001b[0m\n\u001b[1;32m--> 586\u001b[1;33m         \u001b[0mfsim\u001b[0m\u001b[1;33m[\u001b[0m\u001b[0mk\u001b[0m\u001b[1;33m]\u001b[0m \u001b[1;33m=\u001b[0m \u001b[0mfunc\u001b[0m\u001b[1;33m(\u001b[0m\u001b[0msim\u001b[0m\u001b[1;33m[\u001b[0m\u001b[0mk\u001b[0m\u001b[1;33m]\u001b[0m\u001b[1;33m)\u001b[0m\u001b[1;33m\u001b[0m\u001b[1;33m\u001b[0m\u001b[0m\n\u001b[0m\u001b[0;32m    587\u001b[0m \u001b[1;33m\u001b[0m\u001b[0m\n\u001b[0;32m    588\u001b[0m     \u001b[0mind\u001b[0m \u001b[1;33m=\u001b[0m \u001b[0mnumpy\u001b[0m\u001b[1;33m.\u001b[0m\u001b[0margsort\u001b[0m\u001b[1;33m(\u001b[0m\u001b[0mfsim\u001b[0m\u001b[1;33m)\u001b[0m\u001b[1;33m\u001b[0m\u001b[1;33m\u001b[0m\u001b[0m\n",
      "\u001b[1;32m~\\Anaconda3\\envs\\corona\\lib\\site-packages\\scipy\\optimize\\optimize.py\u001b[0m in \u001b[0;36mfunction_wrapper\u001b[1;34m(*wrapper_args)\u001b[0m\n\u001b[0;32m    325\u001b[0m     \u001b[1;32mdef\u001b[0m \u001b[0mfunction_wrapper\u001b[0m\u001b[1;33m(\u001b[0m\u001b[1;33m*\u001b[0m\u001b[0mwrapper_args\u001b[0m\u001b[1;33m)\u001b[0m\u001b[1;33m:\u001b[0m\u001b[1;33m\u001b[0m\u001b[1;33m\u001b[0m\u001b[0m\n\u001b[0;32m    326\u001b[0m         \u001b[0mncalls\u001b[0m\u001b[1;33m[\u001b[0m\u001b[1;36m0\u001b[0m\u001b[1;33m]\u001b[0m \u001b[1;33m+=\u001b[0m \u001b[1;36m1\u001b[0m\u001b[1;33m\u001b[0m\u001b[1;33m\u001b[0m\u001b[0m\n\u001b[1;32m--> 327\u001b[1;33m         \u001b[1;32mreturn\u001b[0m \u001b[0mfunction\u001b[0m\u001b[1;33m(\u001b[0m\u001b[1;33m*\u001b[0m\u001b[1;33m(\u001b[0m\u001b[0mwrapper_args\u001b[0m \u001b[1;33m+\u001b[0m \u001b[0margs\u001b[0m\u001b[1;33m)\u001b[0m\u001b[1;33m)\u001b[0m\u001b[1;33m\u001b[0m\u001b[1;33m\u001b[0m\u001b[0m\n\u001b[0m\u001b[0;32m    328\u001b[0m \u001b[1;33m\u001b[0m\u001b[0m\n\u001b[0;32m    329\u001b[0m     \u001b[1;32mreturn\u001b[0m \u001b[0mncalls\u001b[0m\u001b[1;33m,\u001b[0m \u001b[0mfunction_wrapper\u001b[0m\u001b[1;33m\u001b[0m\u001b[1;33m\u001b[0m\u001b[0m\n",
      "\u001b[1;32m<ipython-input-31-f94457e65f30>\u001b[0m in \u001b[0;36mloss\u001b[1;34m(parameters)\u001b[0m\n\u001b[0;32m     41\u001b[0m         \u001b[1;32mreturn\u001b[0m\u001b[1;33m(\u001b[0m\u001b[0mpd\u001b[0m\u001b[1;33m.\u001b[0m\u001b[0mDataFrame\u001b[0m\u001b[1;33m(\u001b[0m\u001b[1;33m{\u001b[0m\u001b[1;34m'infected'\u001b[0m\u001b[1;33m:\u001b[0m \u001b[0minfected\u001b[0m\u001b[1;33m}\u001b[0m\u001b[1;33m)\u001b[0m\u001b[1;33m)\u001b[0m\u001b[1;33m\u001b[0m\u001b[1;33m\u001b[0m\u001b[0m\n\u001b[0;32m     42\u001b[0m \u001b[1;33m\u001b[0m\u001b[0m\n\u001b[1;32m---> 43\u001b[1;33m     \u001b[0msolution\u001b[0m \u001b[1;33m=\u001b[0m \u001b[0mSEIR\u001b[0m\u001b[1;33m(\u001b[0m\u001b[0mparameters\u001b[0m\u001b[1;33m,\u001b[0m \u001b[0mnb_iterations\u001b[0m\u001b[1;33m,\u001b[0m \u001b[0mN\u001b[0m\u001b[1;33m,\u001b[0m \u001b[0mfraction_infected\u001b[0m\u001b[1;33m)\u001b[0m\u001b[1;33m\u001b[0m\u001b[1;33m\u001b[0m\u001b[0m\n\u001b[0m\u001b[0;32m     44\u001b[0m \u001b[1;33m\u001b[0m\u001b[0m\n\u001b[0;32m     45\u001b[0m     \u001b[1;32mreturn\u001b[0m \u001b[0mnp\u001b[0m\u001b[1;33m.\u001b[0m\u001b[0msqrt\u001b[0m\u001b[1;33m(\u001b[0m\u001b[0mnp\u001b[0m\u001b[1;33m.\u001b[0m\u001b[0mmean\u001b[0m\u001b[1;33m(\u001b[0m\u001b[1;33m(\u001b[0m\u001b[0msolution\u001b[0m \u001b[1;33m-\u001b[0m \u001b[0mkorea_df\u001b[0m\u001b[1;33m[\u001b[0m\u001b[1;34m'infected'\u001b[0m\u001b[1;33m]\u001b[0m\u001b[1;33m)\u001b[0m\u001b[1;33m**\u001b[0m\u001b[1;36m2\u001b[0m\u001b[1;33m)\u001b[0m\u001b[1;33m)\u001b[0m\u001b[1;33m\u001b[0m\u001b[1;33m\u001b[0m\u001b[0m\n",
      "\u001b[1;32m<ipython-input-31-f94457e65f30>\u001b[0m in \u001b[0;36mSEIR\u001b[1;34m(parameters, nb_iterations, N, fraction_infected)\u001b[0m\n\u001b[0;32m     22\u001b[0m \u001b[1;33m\u001b[0m\u001b[0m\n\u001b[0;32m     23\u001b[0m         \u001b[1;31m# Simulation execution\u001b[0m\u001b[1;33m\u001b[0m\u001b[1;33m\u001b[0m\u001b[1;33m\u001b[0m\u001b[0m\n\u001b[1;32m---> 24\u001b[1;33m         \u001b[0miterations\u001b[0m \u001b[1;33m=\u001b[0m \u001b[0mmodel\u001b[0m\u001b[1;33m.\u001b[0m\u001b[0miteration_bunch\u001b[0m\u001b[1;33m(\u001b[0m\u001b[0mnb_iterations\u001b[0m\u001b[1;33m)\u001b[0m\u001b[1;33m\u001b[0m\u001b[1;33m\u001b[0m\u001b[0m\n\u001b[0m\u001b[0;32m     25\u001b[0m \u001b[1;33m\u001b[0m\u001b[0m\n\u001b[0;32m     26\u001b[0m         \u001b[1;31m# Count the number of people in each state at each iteration\u001b[0m\u001b[1;33m\u001b[0m\u001b[1;33m\u001b[0m\u001b[1;33m\u001b[0m\u001b[0m\n",
      "\u001b[1;32m~\\Anaconda3\\envs\\corona\\lib\\site-packages\\ndlib\\models\\DiffusionModel.py\u001b[0m in \u001b[0;36miteration_bunch\u001b[1;34m(self, bunch_size, node_status)\u001b[0m\n\u001b[0;32m    194\u001b[0m         \"\"\"\n\u001b[0;32m    195\u001b[0m         \u001b[0msystem_status\u001b[0m \u001b[1;33m=\u001b[0m \u001b[1;33m[\u001b[0m\u001b[1;33m]\u001b[0m\u001b[1;33m\u001b[0m\u001b[1;33m\u001b[0m\u001b[0m\n\u001b[1;32m--> 196\u001b[1;33m         \u001b[1;32mfor\u001b[0m \u001b[0mit\u001b[0m \u001b[1;32min\u001b[0m \u001b[0mpast\u001b[0m\u001b[1;33m.\u001b[0m\u001b[0mbuiltins\u001b[0m\u001b[1;33m.\u001b[0m\u001b[0mxrange\u001b[0m\u001b[1;33m(\u001b[0m\u001b[1;36m0\u001b[0m\u001b[1;33m,\u001b[0m \u001b[0mbunch_size\u001b[0m\u001b[1;33m)\u001b[0m\u001b[1;33m:\u001b[0m\u001b[1;33m\u001b[0m\u001b[1;33m\u001b[0m\u001b[0m\n\u001b[0m\u001b[0;32m    197\u001b[0m             \u001b[0mits\u001b[0m \u001b[1;33m=\u001b[0m \u001b[0mself\u001b[0m\u001b[1;33m.\u001b[0m\u001b[0miteration\u001b[0m\u001b[1;33m(\u001b[0m\u001b[0mnode_status\u001b[0m\u001b[1;33m)\u001b[0m\u001b[1;33m\u001b[0m\u001b[1;33m\u001b[0m\u001b[0m\n\u001b[0;32m    198\u001b[0m             \u001b[0msystem_status\u001b[0m\u001b[1;33m.\u001b[0m\u001b[0mappend\u001b[0m\u001b[1;33m(\u001b[0m\u001b[0mits\u001b[0m\u001b[1;33m)\u001b[0m\u001b[1;33m\u001b[0m\u001b[1;33m\u001b[0m\u001b[0m\n",
      "\u001b[1;31mTypeError\u001b[0m: only integer scalar arrays can be converted to a scalar index"
     ]
    }
   ],
   "source": [
    "%%time\n",
    "from scipy.optimize import minimize\n",
    "\n",
    "msol = minimize(loss, [alpha, beta, gamma], method='Nelder-Mead')\n",
    "#msol.x"
   ]
  },
  {
   "cell_type": "code",
   "execution_count": null,
   "metadata": {},
   "outputs": [],
   "source": [
    "fig = plt.figure(figsize=(12, 5))\n",
    "\n",
    "plt.plot(nb_iterations, SEIR([alpha, beta, gamma], nb_iterations, N, fraction_infected), label='Infected');\n",
    "#plt.plot(korea_df.day.index, korea_df.infected/N*100, label='S.Korea infected')\n",
    "plt.plot\n",
    "plt.legend()\n",
    "plt.show()"
   ]
  },
  {
   "cell_type": "code",
   "execution_count": null,
   "metadata": {},
   "outputs": [],
   "source": []
  }
 ],
 "metadata": {
  "kernelspec": {
   "display_name": "Projet Corona (Python)",
   "language": "python",
   "name": "corona"
  },
  "language_info": {
   "codemirror_mode": {
    "name": "ipython",
    "version": 3
   },
   "file_extension": ".py",
   "mimetype": "text/x-python",
   "name": "python",
   "nbconvert_exporter": "python",
   "pygments_lexer": "ipython3",
   "version": "3.8.1"
  }
 },
 "nbformat": 4,
 "nbformat_minor": 4
}
